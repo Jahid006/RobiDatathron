{
 "cells": [
  {
   "cell_type": "code",
   "execution_count": 1,
   "metadata": {},
   "outputs": [],
   "source": [
    "import pandas as pd\n",
    "import numpy as np\n",
    "import matplotlib.pyplot as plt\n",
    "import os\n",
    "os.environ['CUDA_VISIBLE_DEVICES'] = '-1'"
   ]
  },
  {
   "cell_type": "code",
   "execution_count": 2,
   "metadata": {},
   "outputs": [],
   "source": [
    "df = pd.read_csv('robi.train.csv')"
   ]
  },
  {
   "cell_type": "code",
   "execution_count": 3,
   "metadata": {},
   "outputs": [],
   "source": [
    "def get_no_of_unique_values(df, col):\n",
    "    return df[col].nunique()\n",
    "\n",
    "def unique_value_per_columns(df, n = 10):\n",
    "    for i in df.columns:\n",
    "        unique_val = get_no_of_unique_values(df, i)\n",
    "        \n",
    "        if unique_val<10:print(i,unique_val, df[i].unique())\n",
    "        else:continue\n",
    "\n",
    "def print_columns_data_type(df):\n",
    "    for x in df.columns:\n",
    "        types = set([type(y) for y in df[x]])\n",
    "        print(x, types)\n",
    "\n",
    "def create_dummy(df,dumb):\n",
    "    for x in dumb:\n",
    "        dummies = pd.get_dummies(df[x],prefix = x,dummy_na = False)\n",
    "        df = df.drop([x],axis = 1)\n",
    "        df = pd.concat([df,dummies],axis=1)\n",
    "    return df\n"
   ]
  },
  {
   "cell_type": "code",
   "execution_count": 4,
   "metadata": {},
   "outputs": [
    {
     "name": "stdout",
     "output_type": "stream",
     "text": [
      "gender 2 ['M' 'F']\n",
      "s11 2 ['Y' 'N']\n",
      "s12 2 ['N' 'Y']\n",
      "s13 2 [1 0]\n",
      "s16 4 ['D' 'B' 'C' 'A']\n",
      "s17 4 ['D' 'C' 'B' 'A']\n",
      "s18 4 ['B' 'D' 'C' 'A']\n",
      "s48 2 [0 1]\n",
      "s52 4 ['1' 'l' '0' 'o']\n",
      "s53 2 ['  ' ' ']\n",
      "s54 9 [nan 'b2' 'aa' '22' '2a' '2b' 'a2' 'bb' 'ab' 'ba']\n",
      "s55 9 ['kK' nan 'kk' '2K' 'k2' 'KK' '22' 'K2' '2k' 'Kk']\n",
      "s56 0 [nan]\n",
      "s57 0 [nan]\n",
      "s58 2 ['B' 'A']\n",
      "s59 0 [nan]\n",
      "s69 4 ['x' '~1' 'C`' '0']\n",
      "s70 4 ['op: D' 'op: C' 'op: B' 'op: A']\n",
      "s71 4 ['b' 'd' 'c' 'a']\n",
      "n12 2 [0 1]\n",
      "n13 2 [0 1]\n",
      "n15 7 [5 3 2 4 1 6 0]\n",
      "label 2 [0 1]\n"
     ]
    }
   ],
   "source": [
    "#columns that has less than 10 unique values\n",
    "unique_value_per_columns(df, 10)"
   ]
  },
  {
   "cell_type": "code",
   "execution_count": 5,
   "metadata": {},
   "outputs": [],
   "source": [
    "#dropping unecessary columns\n",
    "df = df.drop(['s59', 's57', 's53' ,'s56'], axis = 1)"
   ]
  },
  {
   "cell_type": "code",
   "execution_count": 6,
   "metadata": {},
   "outputs": [],
   "source": [
    "gender_mapper =  dict(zip(['M','F'],[0,1]))\n",
    "s11_mapper =  dict(zip(['Y','N'],[0,1]))\n",
    "s12_mapper =  dict(zip(['N','Y'],[0,1]))\n",
    "s58_mapper =  dict(zip(['B','A'],[0,1]))\n",
    "s52_mapper =  dict(zip(['1','l','0','o'],[1,1,0,0]))\n",
    "\n",
    "df['gender'] = df['gender'].replace(gender_mapper)\n",
    "df['s11'] = df['s11'].replace(s11_mapper)\n",
    "df['s12'] = df['s12'].replace(s12_mapper)\n",
    "df['s58'] = df['s58'].replace(s58_mapper)\n",
    "df['s52'] = df['s52'].replace(s52_mapper)"
   ]
  },
  {
   "cell_type": "code",
   "execution_count": 7,
   "metadata": {},
   "outputs": [
    {
     "name": "stdout",
     "output_type": "stream",
     "text": [
      "gender 2 [0 1]\n",
      "s11 2 [0 1]\n",
      "s12 2 [0 1]\n",
      "s13 2 [1 0]\n",
      "s16 4 ['D' 'B' 'C' 'A']\n",
      "s17 4 ['D' 'C' 'B' 'A']\n",
      "s18 4 ['B' 'D' 'C' 'A']\n",
      "s48 2 [0 1]\n",
      "s52 2 [1 0]\n",
      "s54 9 [nan 'b2' 'aa' '22' '2a' '2b' 'a2' 'bb' 'ab' 'ba']\n",
      "s55 9 ['kK' nan 'kk' '2K' 'k2' 'KK' '22' 'K2' '2k' 'Kk']\n",
      "s58 2 [0 1]\n",
      "s69 4 ['x' '~1' 'C`' '0']\n",
      "s70 4 ['op: D' 'op: C' 'op: B' 'op: A']\n",
      "s71 4 ['b' 'd' 'c' 'a']\n",
      "n12 2 [0 1]\n",
      "n13 2 [0 1]\n",
      "n15 7 [5 3 2 4 1 6 0]\n",
      "label 2 [0 1]\n"
     ]
    }
   ],
   "source": [
    "unique_value_per_columns(df, 10)"
   ]
  },
  {
   "cell_type": "code",
   "execution_count": 8,
   "metadata": {},
   "outputs": [],
   "source": [
    "#dropping couuple of more attributes that seem unnecessary\n",
    "df.drop(['s54', 's55'], axis = 1, inplace = True)"
   ]
  },
  {
   "cell_type": "code",
   "execution_count": 9,
   "metadata": {},
   "outputs": [
    {
     "name": "stdout",
     "output_type": "stream",
     "text": [
      "id {<class 'str'>}\n",
      "gender {<class 'int'>}\n",
      "s11 {<class 'int'>}\n",
      "s12 {<class 'int'>}\n",
      "s13 {<class 'int'>}\n",
      "s16 {<class 'str'>}\n",
      "s17 {<class 'str'>}\n",
      "s18 {<class 'str'>}\n",
      "s48 {<class 'int'>}\n",
      "s52 {<class 'int'>}\n",
      "s58 {<class 'int'>}\n",
      "s69 {<class 'str'>}\n",
      "s70 {<class 'str'>}\n",
      "s71 {<class 'str'>}\n",
      "n1 {<class 'float'>}\n",
      "n2 {<class 'float'>}\n",
      "n3 {<class 'int'>}\n",
      "n4 {<class 'float'>}\n",
      "n5 {<class 'float'>}\n",
      "n6 {<class 'float'>}\n",
      "n7 {<class 'float'>}\n",
      "n8 {<class 'float'>}\n",
      "n9 {<class 'float'>}\n",
      "n10 {<class 'float'>}\n",
      "n11 {<class 'float'>}\n",
      "n12 {<class 'int'>}\n",
      "n13 {<class 'int'>}\n",
      "n14 {<class 'float'>}\n",
      "n15 {<class 'int'>}\n",
      "label {<class 'int'>}\n"
     ]
    }
   ],
   "source": [
    "print_columns_data_type(df)"
   ]
  },
  {
   "cell_type": "code",
   "execution_count": 10,
   "metadata": {},
   "outputs": [
    {
     "data": {
      "text/plain": [
       "[('id', 0),\n",
       " ('gender', 0),\n",
       " ('s11', 0),\n",
       " ('s12', 0),\n",
       " ('s13', 0),\n",
       " ('s16', 0),\n",
       " ('s17', 0),\n",
       " ('s18', 0),\n",
       " ('s48', 0),\n",
       " ('s52', 0),\n",
       " ('s58', 0),\n",
       " ('s69', 0),\n",
       " ('s70', 0),\n",
       " ('s71', 0),\n",
       " ('n1', 0),\n",
       " ('n2', 0),\n",
       " ('n3', 0),\n",
       " ('n4', 0),\n",
       " ('n5', 0),\n",
       " ('n6', 0),\n",
       " ('n7', 0),\n",
       " ('n8', 0),\n",
       " ('n9', 0),\n",
       " ('n10', 0),\n",
       " ('n11', 0),\n",
       " ('n12', 0),\n",
       " ('n13', 0),\n",
       " ('n14', 0),\n",
       " ('n15', 0),\n",
       " ('label', 0)]"
      ]
     },
     "execution_count": 10,
     "metadata": {},
     "output_type": "execute_result"
    }
   ],
   "source": [
    "#print coulumns wise null value\n",
    "list(zip(df.columns, df.isnull().sum(axis=0).tolist()))"
   ]
  },
  {
   "cell_type": "code",
   "execution_count": 11,
   "metadata": {},
   "outputs": [],
   "source": [
    "#backup\n",
    "df_backup = df.copy(deep=True)"
   ]
  },
  {
   "cell_type": "code",
   "execution_count": 12,
   "metadata": {},
   "outputs": [],
   "source": [
    "#dropping of id\n",
    "df.drop(['id'], axis = 1, inplace = True)"
   ]
  },
  {
   "cell_type": "code",
   "execution_count": 13,
   "metadata": {},
   "outputs": [],
   "source": [
    "#one hot encoding for non binary class\n",
    "\n",
    "for i in df.columns:\n",
    "    unique_val = get_no_of_unique_values(df, i)\n",
    "    if unique_val<6 and unique_val>2:\n",
    "        df = create_dummy(df, [i])"
   ]
  },
  {
   "cell_type": "code",
   "execution_count": 14,
   "metadata": {},
   "outputs": [],
   "source": [
    "from sklearn.preprocessing import StandardScaler\n",
    "from sklearn.model_selection import train_test_split\n",
    "from sklearn.linear_model import LogisticRegression\n",
    "from sklearn.metrics import confusion_matrix, classification_report\n",
    "from sklearn.pipeline import make_pipeline \n",
    "from  sklearn.ensemble import GradientBoostingClassifier as gbc"
   ]
  },
  {
   "cell_type": "code",
   "execution_count": 15,
   "metadata": {},
   "outputs": [],
   "source": [
    "min_ = df.min()\n",
    "max_ = df.max()\n",
    "normalized_df=(df-min_)/(max_-min_)"
   ]
  },
  {
   "cell_type": "code",
   "execution_count": 16,
   "metadata": {},
   "outputs": [],
   "source": [
    "label = normalized_df['label']\n",
    "normalized_df = normalized_df.drop(['label'], axis = 1)"
   ]
  },
  {
   "cell_type": "code",
   "execution_count": 17,
   "metadata": {},
   "outputs": [],
   "source": [
    "X,XTEST,Y, YTEST = train_test_split(normalized_df,label,test_size = .3,random_state = 42)"
   ]
  },
  {
   "cell_type": "code",
   "execution_count": 18,
   "metadata": {},
   "outputs": [],
   "source": [
    "#model = LogisticRegression()\n",
    "model = gbc()\n",
    "scaler = StandardScaler()  #not necessay, data is already standadized\n",
    "training_pipeline = make_pipeline(scaler, model)"
   ]
  },
  {
   "cell_type": "code",
   "execution_count": 19,
   "metadata": {},
   "outputs": [
    {
     "data": {
      "text/html": [
       "<style>#sk-container-id-1 {color: black;background-color: white;}#sk-container-id-1 pre{padding: 0;}#sk-container-id-1 div.sk-toggleable {background-color: white;}#sk-container-id-1 label.sk-toggleable__label {cursor: pointer;display: block;width: 100%;margin-bottom: 0;padding: 0.3em;box-sizing: border-box;text-align: center;}#sk-container-id-1 label.sk-toggleable__label-arrow:before {content: \"▸\";float: left;margin-right: 0.25em;color: #696969;}#sk-container-id-1 label.sk-toggleable__label-arrow:hover:before {color: black;}#sk-container-id-1 div.sk-estimator:hover label.sk-toggleable__label-arrow:before {color: black;}#sk-container-id-1 div.sk-toggleable__content {max-height: 0;max-width: 0;overflow: hidden;text-align: left;background-color: #f0f8ff;}#sk-container-id-1 div.sk-toggleable__content pre {margin: 0.2em;color: black;border-radius: 0.25em;background-color: #f0f8ff;}#sk-container-id-1 input.sk-toggleable__control:checked~div.sk-toggleable__content {max-height: 200px;max-width: 100%;overflow: auto;}#sk-container-id-1 input.sk-toggleable__control:checked~label.sk-toggleable__label-arrow:before {content: \"▾\";}#sk-container-id-1 div.sk-estimator input.sk-toggleable__control:checked~label.sk-toggleable__label {background-color: #d4ebff;}#sk-container-id-1 div.sk-label input.sk-toggleable__control:checked~label.sk-toggleable__label {background-color: #d4ebff;}#sk-container-id-1 input.sk-hidden--visually {border: 0;clip: rect(1px 1px 1px 1px);clip: rect(1px, 1px, 1px, 1px);height: 1px;margin: -1px;overflow: hidden;padding: 0;position: absolute;width: 1px;}#sk-container-id-1 div.sk-estimator {font-family: monospace;background-color: #f0f8ff;border: 1px dotted black;border-radius: 0.25em;box-sizing: border-box;margin-bottom: 0.5em;}#sk-container-id-1 div.sk-estimator:hover {background-color: #d4ebff;}#sk-container-id-1 div.sk-parallel-item::after {content: \"\";width: 100%;border-bottom: 1px solid gray;flex-grow: 1;}#sk-container-id-1 div.sk-label:hover label.sk-toggleable__label {background-color: #d4ebff;}#sk-container-id-1 div.sk-serial::before {content: \"\";position: absolute;border-left: 1px solid gray;box-sizing: border-box;top: 0;bottom: 0;left: 50%;z-index: 0;}#sk-container-id-1 div.sk-serial {display: flex;flex-direction: column;align-items: center;background-color: white;padding-right: 0.2em;padding-left: 0.2em;position: relative;}#sk-container-id-1 div.sk-item {position: relative;z-index: 1;}#sk-container-id-1 div.sk-parallel {display: flex;align-items: stretch;justify-content: center;background-color: white;position: relative;}#sk-container-id-1 div.sk-item::before, #sk-container-id-1 div.sk-parallel-item::before {content: \"\";position: absolute;border-left: 1px solid gray;box-sizing: border-box;top: 0;bottom: 0;left: 50%;z-index: -1;}#sk-container-id-1 div.sk-parallel-item {display: flex;flex-direction: column;z-index: 1;position: relative;background-color: white;}#sk-container-id-1 div.sk-parallel-item:first-child::after {align-self: flex-end;width: 50%;}#sk-container-id-1 div.sk-parallel-item:last-child::after {align-self: flex-start;width: 50%;}#sk-container-id-1 div.sk-parallel-item:only-child::after {width: 0;}#sk-container-id-1 div.sk-dashed-wrapped {border: 1px dashed gray;margin: 0 0.4em 0.5em 0.4em;box-sizing: border-box;padding-bottom: 0.4em;background-color: white;}#sk-container-id-1 div.sk-label label {font-family: monospace;font-weight: bold;display: inline-block;line-height: 1.2em;}#sk-container-id-1 div.sk-label-container {text-align: center;}#sk-container-id-1 div.sk-container {/* jupyter's `normalize.less` sets `[hidden] { display: none; }` but bootstrap.min.css set `[hidden] { display: none !important; }` so we also need the `!important` here to be able to override the default hidden behavior on the sphinx rendered scikit-learn.org. See: https://github.com/scikit-learn/scikit-learn/issues/21755 */display: inline-block !important;position: relative;}#sk-container-id-1 div.sk-text-repr-fallback {display: none;}</style><div id=\"sk-container-id-1\" class=\"sk-top-container\"><div class=\"sk-text-repr-fallback\"><pre>Pipeline(steps=[(&#x27;standardscaler&#x27;, StandardScaler()),\n",
       "                (&#x27;gradientboostingclassifier&#x27;, GradientBoostingClassifier())])</pre><b>In a Jupyter environment, please rerun this cell to show the HTML representation or trust the notebook. <br />On GitHub, the HTML representation is unable to render, please try loading this page with nbviewer.org.</b></div><div class=\"sk-container\" hidden><div class=\"sk-item sk-dashed-wrapped\"><div class=\"sk-label-container\"><div class=\"sk-label sk-toggleable\"><input class=\"sk-toggleable__control sk-hidden--visually\" id=\"sk-estimator-id-1\" type=\"checkbox\" ><label for=\"sk-estimator-id-1\" class=\"sk-toggleable__label sk-toggleable__label-arrow\">Pipeline</label><div class=\"sk-toggleable__content\"><pre>Pipeline(steps=[(&#x27;standardscaler&#x27;, StandardScaler()),\n",
       "                (&#x27;gradientboostingclassifier&#x27;, GradientBoostingClassifier())])</pre></div></div></div><div class=\"sk-serial\"><div class=\"sk-item\"><div class=\"sk-estimator sk-toggleable\"><input class=\"sk-toggleable__control sk-hidden--visually\" id=\"sk-estimator-id-2\" type=\"checkbox\" ><label for=\"sk-estimator-id-2\" class=\"sk-toggleable__label sk-toggleable__label-arrow\">StandardScaler</label><div class=\"sk-toggleable__content\"><pre>StandardScaler()</pre></div></div></div><div class=\"sk-item\"><div class=\"sk-estimator sk-toggleable\"><input class=\"sk-toggleable__control sk-hidden--visually\" id=\"sk-estimator-id-3\" type=\"checkbox\" ><label for=\"sk-estimator-id-3\" class=\"sk-toggleable__label sk-toggleable__label-arrow\">GradientBoostingClassifier</label><div class=\"sk-toggleable__content\"><pre>GradientBoostingClassifier()</pre></div></div></div></div></div></div></div>"
      ],
      "text/plain": [
       "Pipeline(steps=[('standardscaler', StandardScaler()),\n",
       "                ('gradientboostingclassifier', GradientBoostingClassifier())])"
      ]
     },
     "execution_count": 19,
     "metadata": {},
     "output_type": "execute_result"
    }
   ],
   "source": [
    "training_pipeline.fit(X,Y)"
   ]
  },
  {
   "cell_type": "code",
   "execution_count": 20,
   "metadata": {},
   "outputs": [],
   "source": [
    "prediction = training_pipeline.predict(XTEST)"
   ]
  },
  {
   "cell_type": "code",
   "execution_count": 21,
   "metadata": {},
   "outputs": [],
   "source": [
    "from sklearn.metrics import accuracy_score, classification_report, confusion_matrix\n",
    "from sklearn.model_selection import cross_val_score\n",
    "\n",
    "def print_score(clf, X_train, y_train, X_test, y_test, train=True):\n",
    "    '''\n",
    "    print the accuracy score, classification report and confusion matrix of classifier\n",
    "    '''\n",
    "    if train:\n",
    "        '''\n",
    "        training performance\n",
    "        '''\n",
    "        print(\"Train Result:\\n\")\n",
    "        print(\"accuracy score: {0:.4f}\\n\".format(accuracy_score(y_train, clf.predict(X_train))))\n",
    "        print(\"Classification Report: \\n {}\\n\".format(classification_report(y_train, clf.predict(X_train))))\n",
    "        print(\"Confusion Matrix: \\n {}\\n\".format(confusion_matrix(y_train, clf.predict(X_train))))\n",
    "\n",
    "        res = cross_val_score(clf, X_train, y_train, cv=10, scoring='accuracy')\n",
    "        print(\"Average Accuracy: \\t {0:.4f}\".format(np.mean(res)))\n",
    "        print(\"Accuracy SD: \\t\\t {0:.4f}\".format(np.std(res)))\n",
    "        \n",
    "    elif train==False:\n",
    "        '''\n",
    "        test performance\n",
    "        '''\n",
    "        print(\"Test Result:\\n\")        \n",
    "        print(\"accuracy score: {0:.4f}\\n\".format(accuracy_score(y_test, clf.predict(X_test))))\n",
    "        print(\"Classification Report: \\n {}\\n\".format(classification_report(y_test, clf.predict(X_test))))\n",
    "        print(\"Confusion Matrix: \\n {}\\n\".format(confusion_matrix(y_test, clf.predict(X_test))))  "
   ]
  },
  {
   "cell_type": "code",
   "execution_count": 22,
   "metadata": {},
   "outputs": [
    {
     "name": "stdout",
     "output_type": "stream",
     "text": [
      "Test Result:\n",
      "\n",
      "accuracy score: 0.8850\n",
      "\n",
      "Classification Report: \n",
      "               precision    recall  f1-score   support\n",
      "\n",
      "         0.0       0.91      0.96      0.93      7099\n",
      "         1.0       0.72      0.49      0.58      1398\n",
      "\n",
      "    accuracy                           0.89      8497\n",
      "   macro avg       0.81      0.73      0.76      8497\n",
      "weighted avg       0.88      0.89      0.88      8497\n",
      "\n",
      "\n",
      "Confusion Matrix: \n",
      " [[6834  265]\n",
      " [ 712  686]]\n",
      "\n"
     ]
    }
   ],
   "source": [
    "print_score(training_pipeline,X,Y,XTEST,YTEST,train=False)"
   ]
  },
  {
   "cell_type": "code",
   "execution_count": 25,
   "metadata": {},
   "outputs": [],
   "source": [
    "df.to_excel('processed_df.xlsx')"
   ]
  }
 ],
 "metadata": {
  "kernelspec": {
   "display_name": "Python 3.10.4 ('tf2.9')",
   "language": "python",
   "name": "python3"
  },
  "language_info": {
   "codemirror_mode": {
    "name": "ipython",
    "version": 3
   },
   "file_extension": ".py",
   "mimetype": "text/x-python",
   "name": "python",
   "nbconvert_exporter": "python",
   "pygments_lexer": "ipython3",
   "version": "3.10.4"
  },
  "orig_nbformat": 4,
  "vscode": {
   "interpreter": {
    "hash": "57baf32a60234b0d3f41053f5b8d37d9342cc4e1e7ef48b23997de928c59b639"
   }
  }
 },
 "nbformat": 4,
 "nbformat_minor": 2
}
